{
 "cells": [
  {
   "cell_type": "code",
   "execution_count": null,
   "id": "68a2bccc",
   "metadata": {},
   "outputs": [],
   "source": [
    "import ipfshttpclient"
   ]
  },
  {
   "cell_type": "code",
   "execution_count": null,
   "id": "376ecc36",
   "metadata": {},
   "outputs": [],
   "source": [
    "# تبدیل مسیر فایل به اشیاء IPFS\n",
    "def add_file(client, file_path):\n",
    "    res = client.add(file_path)\n",
    "    return res\n",
    "\n",
    "# برای دریافت فایل از IPFS\n",
    "def get_file(client, file_hash, save_path):\n",
    "    client.get(file_hash, filepath=save_path)\n",
    "\n",
    "def main():\n",
    "    # اتصال به نود IPFS\n",
    "    client = ipfshttpclient.connect('/ip4/127.0.0.1/tcp/5001/post')\n",
    "\n",
    "    file_path = \"1.jpg\"\n",
    "    res = add_file(client, file_path)\n",
    "\n",
    "    print(f\"Uploaded file with hash: {res['Hash']}\")\n",
    "\n",
    "    # دریافت عکس از IPFS و ذخیره آن در مسیر مشخص شده\n",
    "    save_path = \"Output/image.jpg\"\n",
    "    get_file(client, res['Hash'], save_path)\n",
    "\n",
    "    print(f\"Image downloaded and saved at: {save_path}\")\n",
    "\n",
    "if __name__ == \"__main__\":\n",
    "    main()"
   ]
  },
  {
   "cell_type": "code",
   "execution_count": null,
   "id": "9e6c6019",
   "metadata": {},
   "outputs": [],
   "source": []
  }
 ],
 "metadata": {
  "kernelspec": {
   "display_name": "Python 3 (ipykernel)",
   "language": "python",
   "name": "python3"
  },
  "language_info": {
   "codemirror_mode": {
    "name": "ipython",
    "version": 3
   },
   "file_extension": ".py",
   "mimetype": "text/x-python",
   "name": "python",
   "nbconvert_exporter": "python",
   "pygments_lexer": "ipython3",
   "version": "3.9.13"
  }
 },
 "nbformat": 4,
 "nbformat_minor": 5
}
